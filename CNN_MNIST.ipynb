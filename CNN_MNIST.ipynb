{
 "cells": [
  {
   "cell_type": "code",
   "execution_count": 1,
   "metadata": {},
   "outputs": [
    {
     "name": "stdout",
     "output_type": "stream",
     "text": [
      " \n"
     ]
    }
   ],
   "source": [
    "import numpy as np\n",
    "import pandas as pd\n",
    "import matplotlib as plt\n",
    "from random import randint\n",
    "import math\n",
    "import time\n",
    "\n",
    "import keras\n",
    "from keras.models import Sequential, Model\n",
    "from keras.layers import Dense, Dropout, Flatten, Conv2D, MaxPooling2D, Input, Dense\n",
    "from keras import backend as K\n",
    "from keras.models import load_model\n",
    "from keras.utils import plot_model\n",
    "from keras import regularizers\n",
    "\n",
    "import scipy as sp\n",
    "from scipy import io as spio\n",
    "import warnings\n",
    "warnings.filterwarnings('ignore')\n",
    "%matplotlib inline"
   ]
  },
  {
   "cell_type": "code",
   "execution_count": 2,
   "metadata": {},
   "outputs": [],
   "source": [
    "#Functions definations\n",
    "#extract data from Mat format and normalize the image\n",
    "def extract(Data):\n",
    "    features=[]\n",
    "    output=[]\n",
    "    for i in range (Data.shape[0]):\n",
    "            features.append(Data[i,0])\n",
    "            output.append(Data[i,1])\n",
    "    features=np.array(features)\n",
    "    output=np.array(output)\n",
    "    features=np.reshape(features,[features.shape[0]*features.shape[1],28,28])/255.0 #normalize\n",
    "    output=np.reshape(output,[output.shape[0]*output.shape[1],output.shape[2]])\n",
    "    return features, np.array(output)\n",
    "def hot_integer(y):\n",
    "    #one hot to integer\n",
    "    y=np.array(y)\n",
    "    Y_temp = np.zeros(y.shape[0])\n",
    "    for i in range(y.shape[0]):    \n",
    "        Y_temp[i]=np.argmax(y[i])\n",
    "    return np.array(Y_temp)"
   ]
  },
  {
   "cell_type": "code",
   "execution_count": 3,
   "metadata": {},
   "outputs": [],
   "source": [
    "#Read Data\n",
    "R_MNIST=spio.loadmat('./ReducedMNIST.mat')\n",
    "R_MINST_Train=R_MNIST['SmallTrainData']\n",
    "R_MINST_Test=R_MNIST['SmallTestData']\n",
    "\n",
    "X_Train,Y_Train= extract(R_MINST_Train)\n",
    "X_Test,Y_Test= extract(R_MINST_Test)\n",
    "\n",
    "# some parameters\n",
    "img_rows, img_cols = 28, 28\n",
    "input_shape = (img_rows, img_cols,1)\n",
    "batch_size = 32\n",
    "num_classes = 10\n",
    "epochs = 30\n",
    "X_Train=X_Train.reshape(X_Train.shape[0], img_rows, img_cols, 1)\n",
    "X_Test=X_Test.reshape(X_Test.shape[0], img_rows, img_cols, 1)"
   ]
  },
  {
   "cell_type": "code",
   "execution_count": 6,
   "metadata": {},
   "outputs": [],
   "source": [
    "model= Sequential()\n",
    "model.add(Conv2D(6, kernel_size=(3,3), activation='relu', input_shape=input_shape))\n",
    "model.add(MaxPooling2D(pool_size=(2,2), padding='valid',strides=2))\n",
    "model.add(Conv2D(16, kernel_size=(5,5), activation='relu'))\n",
    "model.add(MaxPooling2D(pool_size=(2,2), padding='valid',strides=2))\n",
    "model.add(Flatten())\n",
    "model.add(Dense(200,activation='relu'))\n",
    "model.add(Dense(80,activation='relu'))\n",
    "model.add(Dropout(0.01))\n",
    "model.add(Dense(num_classes, activation='softmax',kernel_regularizer=regularizers.l2(0.01)))"
   ]
  },
  {
   "cell_type": "code",
   "execution_count": 7,
   "metadata": {},
   "outputs": [],
   "source": [
    "model.compile(optimizer='Adam', loss='categorical_crossentropy', metrics=['accuracy'])"
   ]
  },
  {
   "cell_type": "code",
   "execution_count": 8,
   "metadata": {},
   "outputs": [
    {
     "name": "stdout",
     "output_type": "stream",
     "text": [
      "Epoch 1/30\n",
      "10000/10000 [==============================] - 224s 22ms/step - loss: 0.6661 - acc: 0.8369\n",
      "Epoch 2/30\n",
      "10000/10000 [==============================] - 240s 24ms/step - loss: 0.2455 - acc: 0.9533\n",
      "Epoch 3/30\n",
      "10000/10000 [==============================] - 240s 24ms/step - loss: 0.1799 - acc: 0.9665\n",
      "Epoch 4/30\n",
      "10000/10000 [==============================] - 239s 24ms/step - loss: 0.1472 - acc: 0.9709\n",
      "Epoch 5/30\n",
      "10000/10000 [==============================] - 239s 24ms/step - loss: 0.1168 - acc: 0.9787\n",
      "Epoch 6/30\n",
      "10000/10000 [==============================] - 237s 24ms/step - loss: 0.0940 - acc: 0.9816\n",
      "Epoch 7/30\n",
      "10000/10000 [==============================] - 237s 24ms/step - loss: 0.0847 - acc: 0.9816\n",
      "Epoch 8/30\n",
      "10000/10000 [==============================] - 238s 24ms/step - loss: 0.0670 - acc: 0.9888\n",
      "Epoch 9/30\n",
      "10000/10000 [==============================] - 236s 24ms/step - loss: 0.0599 - acc: 0.9881\n",
      "Epoch 10/30\n",
      "10000/10000 [==============================] - 235s 24ms/step - loss: 0.0490 - acc: 0.9912\n",
      "Epoch 11/30\n",
      "10000/10000 [==============================] - 238s 24ms/step - loss: 0.0513 - acc: 0.9897\n",
      "Epoch 12/30\n",
      "10000/10000 [==============================] - 241s 24ms/step - loss: 0.0373 - acc: 0.9945\n",
      "Epoch 13/30\n",
      "10000/10000 [==============================] - 237s 24ms/step - loss: 0.0376 - acc: 0.9941\n",
      "Epoch 14/30\n",
      "10000/10000 [==============================] - 238s 24ms/step - loss: 0.0314 - acc: 0.9952\n",
      "Epoch 15/30\n",
      "10000/10000 [==============================] - 237s 24ms/step - loss: 0.0302 - acc: 0.9940\n",
      "Epoch 16/30\n",
      "10000/10000 [==============================] - 236s 24ms/step - loss: 0.0302 - acc: 0.9939\n",
      "Epoch 17/30\n",
      "10000/10000 [==============================] - 236s 24ms/step - loss: 0.0304 - acc: 0.9936\n",
      "Epoch 18/30\n",
      "10000/10000 [==============================] - 235s 24ms/step - loss: 0.0208 - acc: 0.9970\n",
      "Epoch 19/30\n",
      "10000/10000 [==============================] - 236s 24ms/step - loss: 0.0181 - acc: 0.9980\n",
      "Epoch 20/30\n",
      "10000/10000 [==============================] - 236s 24ms/step - loss: 0.0188 - acc: 0.9976\n",
      "Epoch 21/30\n",
      "10000/10000 [==============================] - 237s 24ms/step - loss: 0.0274 - acc: 0.9936\n",
      "Epoch 22/30\n",
      "10000/10000 [==============================] - 234s 23ms/step - loss: 0.0205 - acc: 0.9962\n",
      "Epoch 23/30\n",
      "10000/10000 [==============================] - 238s 24ms/step - loss: 0.0158 - acc: 0.9979\n",
      "Epoch 24/30\n",
      "10000/10000 [==============================] - 235s 24ms/step - loss: 0.0185 - acc: 0.9973\n",
      "Epoch 25/30\n",
      "10000/10000 [==============================] - 236s 24ms/step - loss: 0.0154 - acc: 0.9973\n",
      "Epoch 26/30\n",
      "10000/10000 [==============================] - 238s 24ms/step - loss: 0.0094 - acc: 0.9995\n",
      "Epoch 27/30\n",
      "10000/10000 [==============================] - 235s 24ms/step - loss: 0.0208 - acc: 0.9956\n",
      "Epoch 28/30\n",
      "10000/10000 [==============================] - 236s 24ms/step - loss: 0.0138 - acc: 0.9979\n",
      "Epoch 29/30\n",
      "10000/10000 [==============================] - 238s 24ms/step - loss: 0.0177 - acc: 0.9966\n",
      "Epoch 30/30\n",
      "10000/10000 [==============================] - 237s 24ms/step - loss: 0.0137 - acc: 0.9977\n",
      "\n",
      " elapsed time to train= 7102.9449 sec\n",
      "\n"
     ]
    }
   ],
   "source": [
    "#Train CNN\n",
    "tic = time.time()\n",
    "hist=model.fit(X_Train, Y_Train, batch_size=batch_size, epochs=epochs)\n",
    "toc = time.time()\n",
    "print(\"\\n elapsed time to train=\",round(toc-tic,4),\"sec\\n\")\n",
    "model.save('./my_model.h5')  # creates a HDF5 file 'my_model.h5' to save model"
   ]
  },
  {
   "cell_type": "code",
   "execution_count": 9,
   "metadata": {},
   "outputs": [
    {
     "data": {
      "text/plain": [
       "<matplotlib.legend.Legend at 0x7fd16ebcd940>"
      ]
     },
     "execution_count": 9,
     "metadata": {},
     "output_type": "execute_result"
    },
    {
     "data": {
      "image/png": "[encoded data removed]",
      "text/plain": [
       "<Figure size 432x288 with 1 Axes>"
      ]
     },
     "metadata": {},
     "output_type": "display_data"
    }
   ],
   "source": [
    "plt.pyplot.plot(hist.history['loss'])\n",
    "plt.pyplot.title('model loss')\n",
    "plt.pyplot.ylabel('loss')\n",
    "plt.pyplot.xlabel('epoch')\n",
    "plt.pyplot.legend(['train'], loc='upper left')"
   ]
  },
  {
   "cell_type": "code",
   "execution_count": 10,
   "metadata": {},
   "outputs": [
    {
     "data": {
      "text/plain": [
       "<matplotlib.legend.Legend at 0x7fd13c0a3f60>"
      ]
     },
     "execution_count": 10,
     "metadata": {},
     "output_type": "execute_result"
    },
    {
     "data": {
      "image/png": "[encoded data removed]",
      "text/plain": [
       "<Figure size 432x288 with 1 Axes>"
      ]
     },
     "metadata": {},
     "output_type": "display_data"
    }
   ],
   "source": [
    "plt.pyplot.plot(hist.history['acc'])\n",
    "plt.pyplot.title('model accuracy')\n",
    "plt.pyplot.ylabel('acc')\n",
    "plt.pyplot.xlabel('epoch')\n",
    "plt.pyplot.legend(['train'], loc='upper left')"
   ]
  },
  {
   "cell_type": "code",
   "execution_count": 4,
   "metadata": {},
   "outputs": [
    {
     "name": "stdout",
     "output_type": "stream",
     "text": [
      "_________________________________________________________________\n",
      "Layer (type)                 Output Shape              Param #   \n",
      "=================================================================\n",
      "conv2d_3 (Conv2D)            (None, 26, 26, 6)         60        \n",
      "_________________________________________________________________\n",
      "max_pooling2d_3 (MaxPooling2 (None, 13, 13, 6)         0         \n",
      "_________________________________________________________________\n",
      "conv2d_4 (Conv2D)            (None, 9, 9, 16)          2416      \n",
      "_________________________________________________________________\n",
      "max_pooling2d_4 (MaxPooling2 (None, 4, 4, 16)          0         \n",
      "_________________________________________________________________\n",
      "flatten_2 (Flatten)          (None, 256)               0         \n",
      "_________________________________________________________________\n",
      "dense_4 (Dense)              (None, 200)               51400     \n",
      "_________________________________________________________________\n",
      "dense_5 (Dense)              (None, 80)                16080     \n",
      "_________________________________________________________________\n",
      "dropout_2 (Dropout)          (None, 80)                0         \n",
      "_________________________________________________________________\n",
      "dense_6 (Dense)              (None, 10)                810       \n",
      "=================================================================\n",
      "Total params: 70,766\n",
      "Trainable params: 70,766\n",
      "Non-trainable params: 0\n",
      "_________________________________________________________________\n"
     ]
    }
   ],
   "source": [
    "#load CNN model\n",
    "model = load_model('./my_model.h5') #load saved model\n",
    "model.summary()"
   ]
  },
  {
   "cell_type": "code",
   "execution_count": 12,
   "metadata": {},
   "outputs": [],
   "source": [
    "#graph CNN model\n",
    "plot_model(model, to_file='./model.png',show_shapes=True)"
   ]
  },
  {
   "cell_type": "code",
   "execution_count": 5,
   "metadata": {},
   "outputs": [
    {
     "name": "stdout",
     "output_type": "stream",
     "text": [
      "1000/1000 [==============================] - 7s 7ms/step\n",
      "Test Accuracy =  98.2%\n"
     ]
    }
   ],
   "source": [
    "score= model.evaluate(X_Test, Y_Test)\n",
    "print(\"Test Accuracy =  \"+ str(score[1]*100)+\"%\")"
   ]
  },
  {
   "cell_type": "code",
   "execution_count": 6,
   "metadata": {},
   "outputs": [
    {
     "name": "stdout",
     "output_type": "stream",
     "text": [
      "elapsed time to predict= 5.8566 sec\n",
      "\n"
     ]
    }
   ],
   "source": [
    "#predict for the test set\n",
    "tic = time.time()\n",
    "Y_predict=model.predict(X_Test)\n",
    "toc = time.time()\n",
    "print(\"elapsed time to predict=\",round(toc-tic,4),\"sec\\n\")"
   ]
  },
  {
   "cell_type": "code",
   "execution_count": 7,
   "metadata": {},
   "outputs": [
    {
     "data": {
      "text/html": [
       "<div>\n",
       "<style scoped>\n",
       "    .dataframe tbody tr th:only-of-type {\n",
       "        vertical-align: middle;\n",
       "    }\n",
       "\n",
       "    .dataframe tbody tr th {\n",
       "        vertical-align: top;\n",
       "    }\n",
       "\n",
       "    .dataframe thead th {\n",
       "        text-align: right;\n",
       "    }\n",
       "</style>\n",
       "<table border=\"1\" class=\"dataframe\">\n",
       "  <thead>\n",
       "    <tr style=\"text-align: right;\">\n",
       "      <th>Predicted</th>\n",
       "      <th>0.0</th>\n",
       "      <th>1.0</th>\n",
       "      <th>2.0</th>\n",
       "      <th>3.0</th>\n",
       "      <th>4.0</th>\n",
       "      <th>5.0</th>\n",
       "      <th>6.0</th>\n",
       "      <th>7.0</th>\n",
       "      <th>8.0</th>\n",
       "      <th>9.0</th>\n",
       "      <th>All</th>\n",
       "    </tr>\n",
       "    <tr>\n",
       "      <th>Actual</th>\n",
       "      <th></th>\n",
       "      <th></th>\n",
       "      <th></th>\n",
       "      <th></th>\n",
       "      <th></th>\n",
       "      <th></th>\n",
       "      <th></th>\n",
       "      <th></th>\n",
       "      <th></th>\n",
       "      <th></th>\n",
       "      <th></th>\n",
       "    </tr>\n",
       "  </thead>\n",
       "  <tbody>\n",
       "    <tr>\n",
       "      <th>0.0</th>\n",
       "      <td>99</td>\n",
       "      <td>0</td>\n",
       "      <td>0</td>\n",
       "      <td>0</td>\n",
       "      <td>0</td>\n",
       "      <td>0</td>\n",
       "      <td>0</td>\n",
       "      <td>0</td>\n",
       "      <td>1</td>\n",
       "      <td>0</td>\n",
       "      <td>100</td>\n",
       "    </tr>\n",
       "    <tr>\n",
       "      <th>1.0</th>\n",
       "      <td>0</td>\n",
       "      <td>100</td>\n",
       "      <td>0</td>\n",
       "      <td>0</td>\n",
       "      <td>0</td>\n",
       "      <td>0</td>\n",
       "      <td>0</td>\n",
       "      <td>0</td>\n",
       "      <td>0</td>\n",
       "      <td>0</td>\n",
       "      <td>100</td>\n",
       "    </tr>\n",
       "    <tr>\n",
       "      <th>2.0</th>\n",
       "      <td>0</td>\n",
       "      <td>0</td>\n",
       "      <td>98</td>\n",
       "      <td>1</td>\n",
       "      <td>0</td>\n",
       "      <td>0</td>\n",
       "      <td>0</td>\n",
       "      <td>0</td>\n",
       "      <td>1</td>\n",
       "      <td>0</td>\n",
       "      <td>100</td>\n",
       "    </tr>\n",
       "    <tr>\n",
       "      <th>3.0</th>\n",
       "      <td>0</td>\n",
       "      <td>0</td>\n",
       "      <td>1</td>\n",
       "      <td>98</td>\n",
       "      <td>0</td>\n",
       "      <td>0</td>\n",
       "      <td>0</td>\n",
       "      <td>1</td>\n",
       "      <td>0</td>\n",
       "      <td>0</td>\n",
       "      <td>100</td>\n",
       "    </tr>\n",
       "    <tr>\n",
       "      <th>4.0</th>\n",
       "      <td>0</td>\n",
       "      <td>0</td>\n",
       "      <td>0</td>\n",
       "      <td>0</td>\n",
       "      <td>99</td>\n",
       "      <td>0</td>\n",
       "      <td>1</td>\n",
       "      <td>0</td>\n",
       "      <td>0</td>\n",
       "      <td>0</td>\n",
       "      <td>100</td>\n",
       "    </tr>\n",
       "    <tr>\n",
       "      <th>5.0</th>\n",
       "      <td>0</td>\n",
       "      <td>0</td>\n",
       "      <td>0</td>\n",
       "      <td>1</td>\n",
       "      <td>0</td>\n",
       "      <td>98</td>\n",
       "      <td>1</td>\n",
       "      <td>0</td>\n",
       "      <td>0</td>\n",
       "      <td>0</td>\n",
       "      <td>100</td>\n",
       "    </tr>\n",
       "    <tr>\n",
       "      <th>6.0</th>\n",
       "      <td>0</td>\n",
       "      <td>0</td>\n",
       "      <td>0</td>\n",
       "      <td>0</td>\n",
       "      <td>0</td>\n",
       "      <td>1</td>\n",
       "      <td>99</td>\n",
       "      <td>0</td>\n",
       "      <td>0</td>\n",
       "      <td>0</td>\n",
       "      <td>100</td>\n",
       "    </tr>\n",
       "    <tr>\n",
       "      <th>7.0</th>\n",
       "      <td>0</td>\n",
       "      <td>0</td>\n",
       "      <td>0</td>\n",
       "      <td>1</td>\n",
       "      <td>0</td>\n",
       "      <td>0</td>\n",
       "      <td>0</td>\n",
       "      <td>99</td>\n",
       "      <td>0</td>\n",
       "      <td>0</td>\n",
       "      <td>100</td>\n",
       "    </tr>\n",
       "    <tr>\n",
       "      <th>8.0</th>\n",
       "      <td>0</td>\n",
       "      <td>0</td>\n",
       "      <td>0</td>\n",
       "      <td>1</td>\n",
       "      <td>0</td>\n",
       "      <td>0</td>\n",
       "      <td>0</td>\n",
       "      <td>1</td>\n",
       "      <td>97</td>\n",
       "      <td>1</td>\n",
       "      <td>100</td>\n",
       "    </tr>\n",
       "    <tr>\n",
       "      <th>9.0</th>\n",
       "      <td>1</td>\n",
       "      <td>1</td>\n",
       "      <td>0</td>\n",
       "      <td>0</td>\n",
       "      <td>2</td>\n",
       "      <td>0</td>\n",
       "      <td>1</td>\n",
       "      <td>0</td>\n",
       "      <td>0</td>\n",
       "      <td>95</td>\n",
       "      <td>100</td>\n",
       "    </tr>\n",
       "    <tr>\n",
       "      <th>All</th>\n",
       "      <td>100</td>\n",
       "      <td>101</td>\n",
       "      <td>99</td>\n",
       "      <td>102</td>\n",
       "      <td>101</td>\n",
       "      <td>99</td>\n",
       "      <td>102</td>\n",
       "      <td>101</td>\n",
       "      <td>99</td>\n",
       "      <td>96</td>\n",
       "      <td>1000</td>\n",
       "    </tr>\n",
       "  </tbody>\n",
       "</table>\n",
       "</div>"
      ],
      "text/plain": [
       "Predicted  0.0  1.0  2.0  3.0  4.0  5.0  6.0  7.0  8.0  9.0   All\n",
       "Actual                                                           \n",
       "0.0         99    0    0    0    0    0    0    0    1    0   100\n",
       "1.0          0  100    0    0    0    0    0    0    0    0   100\n",
       "2.0          0    0   98    1    0    0    0    0    1    0   100\n",
       "3.0          0    0    1   98    0    0    0    1    0    0   100\n",
       "4.0          0    0    0    0   99    0    1    0    0    0   100\n",
       "5.0          0    0    0    1    0   98    1    0    0    0   100\n",
       "6.0          0    0    0    0    0    1   99    0    0    0   100\n",
       "7.0          0    0    0    1    0    0    0   99    0    0   100\n",
       "8.0          0    0    0    1    0    0    0    1   97    1   100\n",
       "9.0          1    1    0    0    2    0    1    0    0   95   100\n",
       "All        100  101   99  102  101   99  102  101   99   96  1000"
      ]
     },
     "metadata": {},
     "output_type": "display_data"
    }
   ],
   "source": [
    "Y_pred=hot_integer(Y_predict)\n",
    "Y_orig=hot_integer(Y_Test)\n",
    "\n",
    "#calculate confusion matrix\n",
    "confusion_mat = pd.crosstab(Y_orig,Y_pred,\\\n",
    "                            rownames=['Actual'],colnames=['Predicted'],margins=True)\n",
    "display(confusion_mat)"
   ]
  },
  {
   "cell_type": "code",
   "execution_count": 8,
   "metadata": {},
   "outputs": [],
   "source": [
    "#free memory\n",
    "del model #delete current model\n",
    "K.clear_session()#clear old model"
   ]
  }
 ],
 "metadata": {
  "kernelspec": {
   "display_name": "Python 3",
   "language": "python",
   "name": "python3"
  },
  "language_info": {
   "codemirror_mode": {
    "name": "ipython",
    "version": 3
   },
   "file_extension": ".py",
   "mimetype": "text/x-python",
   "name": "python",
   "nbconvert_exporter": "python",
   "pygments_lexer": "ipython3",
   "version": "3.6.5"
  }
 },
 "nbformat": 4,
 "nbformat_minor": 2
}
